{
  "cells": [
    {
      "cell_type": "markdown",
      "metadata": {
        "id": "view-in-github",
        "colab_type": "text"
      },
      "source": [
        "<a href=\"https://colab.research.google.com/github/dougyd92/ResNet/blob/main/HyperparamSweep.ipynb\" target=\"_parent\"><img src=\"https://colab.research.google.com/assets/colab-badge.svg\" alt=\"Open In Colab\"/></a>"
      ]
    },
    {
      "cell_type": "markdown",
      "source": [
        "# Setup\n"
      ],
      "metadata": {
        "id": "VufV7VCa5vPB"
      }
    },
    {
      "cell_type": "markdown",
      "source": [
        "## Install and import libraries"
      ],
      "metadata": {
        "id": "xPjUiAoB6jq-"
      }
    },
    {
      "cell_type": "code",
      "execution_count": 5,
      "metadata": {
        "colab": {
          "base_uri": "https://localhost:8080/"
        },
        "id": "pt806zah7MNA",
        "outputId": "d0625df3-4b5c-454f-8839-1339e4fb65a5"
      },
      "outputs": [
        {
          "output_type": "stream",
          "name": "stdout",
          "text": [
            "Looking in indexes: https://pypi.org/simple, https://us-python.pkg.dev/colab-wheels/public/simple/\n",
            "Requirement already satisfied: torchinfo in /usr/local/lib/python3.7/dist-packages (1.7.1)\n"
          ]
        }
      ],
      "source": [
        "!pip install torchinfo"
      ]
    },
    {
      "cell_type": "code",
      "execution_count": 6,
      "metadata": {
        "id": "pPsyE1-EUFLQ"
      },
      "outputs": [],
      "source": [
        "import torch\n",
        "import torch.nn as nn\n",
        "import torch.optim as optim\n",
        "import torch.nn.functional as F\n",
        "import torch.backends.cudnn as cudnn\n",
        "\n",
        "import torchvision\n",
        "import torchvision.transforms as transforms\n",
        "\n",
        "import pandas as pd\n",
        "import numpy as np\n",
        "\n",
        "from torchinfo import summary"
      ]
    },
    {
      "cell_type": "markdown",
      "source": [
        "## Prepare training data from CIFAR10"
      ],
      "metadata": {
        "id": "8FqzZhOd6pTa"
      }
    },
    {
      "cell_type": "code",
      "execution_count": 7,
      "metadata": {
        "colab": {
          "base_uri": "https://localhost:8080/",
          "height": 118,
          "referenced_widgets": [
            "3508ccbd100d4d1cbd8b90acbc403103",
            "f414c409f494457d95e21afc7f48fe8e",
            "ed9a0eb0690a4c058ae8631d4025a334",
            "bfd502c6f67e446dbdf427d3b4e07c0e",
            "6b13239d5cb84baa872900d6e7e17e91",
            "82315e4e81f746658ce8bda174d9d54c",
            "9520a879d137429fa8e974cb3b4c4fb2",
            "054ef9e49b42414ba24ea6cb11ddbc45",
            "b8ed763e3fdb4c25a6f4626c37d68a0a",
            "bf7955bacc6c47c1a327709b2369e68c",
            "896700614fc444e19497c916041e9ffb"
          ]
        },
        "id": "cJ0BsqeMUQOC",
        "outputId": "b8b05529-363e-4029-eeaa-fa2cfe392015"
      },
      "outputs": [
        {
          "output_type": "stream",
          "name": "stdout",
          "text": [
            "==> Preparing data..\n",
            "Downloading https://www.cs.toronto.edu/~kriz/cifar-10-python.tar.gz to ./data/cifar-10-python.tar.gz\n"
          ]
        },
        {
          "output_type": "display_data",
          "data": {
            "text/plain": [
              "  0%|          | 0/170498071 [00:00<?, ?it/s]"
            ],
            "application/vnd.jupyter.widget-view+json": {
              "version_major": 2,
              "version_minor": 0,
              "model_id": "3508ccbd100d4d1cbd8b90acbc403103"
            }
          },
          "metadata": {}
        },
        {
          "output_type": "stream",
          "name": "stdout",
          "text": [
            "Extracting ./data/cifar-10-python.tar.gz to ./data\n",
            "Files already downloaded and verified\n"
          ]
        }
      ],
      "source": [
        "# Based on example code from: https://github.com/kuangliu/pytorch-cifar/blob/master/models/resnet.py\n",
        "\n",
        "device = 'cuda' if torch.cuda.is_available() else 'cpu'\n",
        "best_acc = 0  # best test accuracy\n",
        "start_epoch = 0  # start from epoch 0 or last checkpoint epoch\n",
        "\n",
        "# Data\n",
        "print('==> Preparing data..')\n",
        "transform_train = transforms.Compose([\n",
        "    transforms.RandomCrop(32, padding=4),\n",
        "    transforms.RandomHorizontalFlip(),\n",
        "    transforms.ToTensor(),\n",
        "    transforms.Normalize((0.4914, 0.4822, 0.4465), (0.2023, 0.1994, 0.2010)),\n",
        "])\n",
        "\n",
        "transform_test = transforms.Compose([\n",
        "    transforms.ToTensor(),\n",
        "    transforms.Normalize((0.4914, 0.4822, 0.4465), (0.2023, 0.1994, 0.2010)),\n",
        "])\n",
        "\n",
        "trainset = torchvision.datasets.CIFAR10(\n",
        "    root='./data', train=True, download=True, transform=transform_train)\n",
        "trainloader = torch.utils.data.DataLoader(\n",
        "    trainset, batch_size=128, shuffle=True, num_workers=2)\n",
        "\n",
        "testset = torchvision.datasets.CIFAR10(\n",
        "    root='./data', train=False, download=True, transform=transform_test)\n",
        "testloader = torch.utils.data.DataLoader(\n",
        "    testset, batch_size=100, shuffle=False, num_workers=2)\n",
        "\n",
        "classes = ('plane', 'car', 'bird', 'cat', 'deer',\n",
        "           'dog', 'frog', 'horse', 'ship', 'truck')"
      ]
    },
    {
      "cell_type": "markdown",
      "source": [
        "## Define the model"
      ],
      "metadata": {
        "id": "lSoML2P_62Bp"
      }
    },
    {
      "cell_type": "code",
      "execution_count": 8,
      "metadata": {
        "id": "ZOsXuhoGVgok"
      },
      "outputs": [],
      "source": [
        "# Based on example code from: https://github.com/kuangliu/pytorch-cifar/blob/master/models/resnet.py\n",
        "\n",
        "class BasicBlock(nn.Module):\n",
        "    expansion = 1\n",
        "\n",
        "    def __init__(self, in_planes, planes, stride=1):\n",
        "        super(BasicBlock, self).__init__()\n",
        "        self.conv1 = nn.Conv2d(\n",
        "            in_planes, planes, kernel_size=3, stride=stride, padding=1, bias=False)\n",
        "        self.bn1 = nn.BatchNorm2d(planes)\n",
        "        self.conv2 = nn.Conv2d(planes, planes, kernel_size=3,\n",
        "                               stride=1, padding=1, bias=False)\n",
        "        self.bn2 = nn.BatchNorm2d(planes)\n",
        "\n",
        "        self.shortcut = nn.Sequential()\n",
        "        if stride != 1 or in_planes != self.expansion*planes:\n",
        "            self.shortcut = nn.Sequential(\n",
        "                nn.Conv2d(in_planes, self.expansion*planes,\n",
        "                          kernel_size=1, stride=stride, bias=False),\n",
        "                nn.BatchNorm2d(self.expansion*planes)\n",
        "            )\n",
        "\n",
        "    def forward(self, x):\n",
        "        out = F.relu(self.bn1(self.conv1(x)))\n",
        "        out = self.bn2(self.conv2(out))\n",
        "        out += self.shortcut(x)\n",
        "        out = F.relu(out)\n",
        "        return out\n",
        "\n",
        "class ResNet(nn.Module):\n",
        "    def __init__(self, block, num_blocks, strides=[1,2,2,2], num_classes=10):\n",
        "        super(ResNet, self).__init__()\n",
        "        self.in_planes = 64\n",
        "\n",
        "        self.conv1 = nn.Conv2d(3, 64, kernel_size=3,\n",
        "                               stride=1, padding=1, bias=False)\n",
        "        self.bn1 = nn.BatchNorm2d(64)\n",
        "        self.layer1 = self._make_layer(block, 64, num_blocks[0], stride=strides[0])\n",
        "        self.layer2 = self._make_layer(block, 128, num_blocks[1], stride=strides[1])\n",
        "        self.layer3 = self._make_layer(block, 256, num_blocks[2], stride=strides[2])\n",
        "        self.layer4 = self._make_layer(block, 512, num_blocks[3], stride=strides[3])\n",
        "        self.linear = nn.Linear(512*block.expansion, num_classes)\n",
        "\n",
        "    def _make_layer(self, block, planes, num_blocks, stride):\n",
        "        if num_blocks > 0:\n",
        "            strides = [stride] + [1]*(num_blocks-1)\n",
        "            layers = []\n",
        "            for stride in strides:\n",
        "                layers.append(block(self.in_planes, planes, stride))\n",
        "                self.in_planes = planes * block.expansion\n",
        "            return nn.Sequential(*layers)\n",
        "        else:\n",
        "            # When 0 residual blocks are used for a given layer\n",
        "            # just use a simple convolution and batch norm instead\n",
        "            # in order to keep the dimensions correct\n",
        "            layer =  nn.Sequential(nn.Conv2d(self.in_planes, planes, kernel_size=1,\n",
        "                                stride=stride, padding=1, bias=False),\n",
        "                          nn.BatchNorm2d(planes))\n",
        "            self.in_planes = planes * block.expansion\n",
        "            return layer\n",
        "\n",
        "\n",
        "    def forward(self, x):\n",
        "        out = F.relu(self.bn1(self.conv1(x)))\n",
        "        out = self.layer1(out)\n",
        "        out = self.layer2(out)\n",
        "        out = self.layer3(out)\n",
        "        out = self.layer4(out)\n",
        "        out = F.avg_pool2d(out, 4)\n",
        "        out = out.view(out.size(0), -1)\n",
        "        out = self.linear(out)\n",
        "        return out\n"
      ]
    },
    {
      "cell_type": "markdown",
      "source": [
        "## Training functions"
      ],
      "metadata": {
        "id": "pnMYddBC7edZ"
      }
    },
    {
      "cell_type": "code",
      "execution_count": 9,
      "metadata": {
        "id": "VvLqssm9VWAL"
      },
      "outputs": [],
      "source": [
        "# Based on example code from: https://github.com/kuangliu/pytorch-cifar/blob/master/models/resnet.py\n",
        "\n",
        "LR = 0.1\n",
        "\n",
        "# Training\n",
        "def train_one_epoch(net, optimizer, criterion):\n",
        "    \n",
        "    net.train()\n",
        "    train_loss = 0\n",
        "    correct = 0\n",
        "    total = 0\n",
        "    for batch_idx, (inputs, targets) in enumerate(trainloader):\n",
        "        inputs, targets = inputs.to(device), targets.to(device)\n",
        "        optimizer.zero_grad()\n",
        "        outputs = net(inputs)\n",
        "        loss = criterion(outputs, targets)\n",
        "        loss.backward()\n",
        "        optimizer.step()\n",
        "\n",
        "        train_loss += loss.item()\n",
        "        \n",
        "        _, predicted = outputs.max(1)\n",
        "        total += targets.size(0)\n",
        "        correct += predicted.eq(targets).sum().item()\n",
        "        \n",
        "    print(f'\\tTrain Loss: {train_loss:.3f} | Train Acc: {100.*correct/total:.2f}%')\n",
        "    return train_loss, 100.*correct/total\n",
        "\n",
        "\n",
        "def test(net, optimizer, criterion):\n",
        "    global best_acc\n",
        "    net.eval()\n",
        "    test_loss = 0\n",
        "    correct = 0\n",
        "    total = 0\n",
        "    with torch.no_grad():\n",
        "        for batch_idx, (inputs, targets) in enumerate(testloader):\n",
        "            inputs, targets = inputs.to(device), targets.to(device)\n",
        "            outputs = net(inputs)\n",
        "            loss = criterion(outputs, targets)\n",
        "\n",
        "            test_loss += loss.item()\n",
        "            _, predicted = outputs.max(1)\n",
        "            total += targets.size(0)\n",
        "            correct += predicted.eq(targets).sum().item()\n",
        "\n",
        "            # progress_bar(batch_idx, len(testloader), 'Loss: %.3f | Acc: %.3f%% (%d/%d)'\n",
        "            #              % (test_loss/(batch_idx+1), 100.*correct/total, correct, total))\n",
        "\n",
        "        print(f'\\tTest Loss: {test_loss:.3f} | Test Acc: {100.*correct/total:.2f}%')\n",
        "        return test_loss, 100.*correct/total\n",
        "\n",
        "    # Save checkpoint.\n",
        "    acc = 100.*correct/total\n",
        "    if acc > best_acc:\n",
        "        print('Saving..')\n",
        "        state = {\n",
        "            'net': net.state_dict(),\n",
        "            'acc': acc,\n",
        "            'epoch': epoch,\n",
        "        }\n",
        "        if not os.path.isdir('checkpoint'):\n",
        "            os.mkdir('checkpoint')\n",
        "        torch.save(state, './checkpoint/ckpt.pth')\n",
        "        best_acc = acc"
      ]
    },
    {
      "cell_type": "code",
      "execution_count": 10,
      "metadata": {
        "id": "CgjOOShzYtRO"
      },
      "outputs": [],
      "source": [
        "EPOCHS = 50\n",
        "\n",
        "def train(net, LR=0.1):\n",
        "    criterion = nn.CrossEntropyLoss()\n",
        "    optimizer = optim.SGD(net.parameters(), lr=LR,\n",
        "                        momentum=0.9, weight_decay=5e-4)\n",
        "    scheduler = torch.optim.lr_scheduler.CosineAnnealingLR(optimizer, T_max=200)\n",
        "\n",
        "    train_accuracy_history = []\n",
        "    train_loss_history = []\n",
        "    test_accuracy_history = []\n",
        "    test_loss_history = []\n",
        "\n",
        "    for epoch in range(EPOCHS):\n",
        "        print('\\nEpoch: %d' % epoch)\n",
        "        train_loss, train_acc = train_one_epoch(net, optimizer, criterion)\n",
        "        test_loss, test_acc = test(net, optimizer, criterion)\n",
        "\n",
        "        train_accuracy_history.append(train_acc)\n",
        "\n",
        "        train_loss_history.append(train_loss)\n",
        "        test_accuracy_history.append(test_acc)\n",
        "        test_loss_history.append(test_loss)\n",
        "\n",
        "        scheduler.step()\n",
        "\n",
        "    return {'train': (train_loss_history, train_accuracy_history), 'validation': (test_loss_history, test_accuracy_history)}"
      ]
    },
    {
      "cell_type": "markdown",
      "source": [
        "## Helper functions"
      ],
      "metadata": {
        "id": "-akvqOzj7-4D"
      }
    },
    {
      "cell_type": "code",
      "source": [
        "!mkdir ./results"
      ],
      "metadata": {
        "id": "toplUfqx9LMz"
      },
      "execution_count": 13,
      "outputs": []
    },
    {
      "cell_type": "code",
      "execution_count": 11,
      "metadata": {
        "id": "O52qBU9BoBeB"
      },
      "outputs": [],
      "source": [
        "def save_to_excel(data, table_name):\n",
        "  df = pd.DataFrame(data=data)\n",
        "  df = df.T\n",
        "\n",
        "  df.to_excel(f'./results/{table_name}.xlsx')\n",
        "\n",
        "def parse_results(results, phase, stat='accuracy'):\n",
        "  stats = {}\n",
        "\n",
        "  stat = 1 if stat == 'accuracy' else 0\n",
        "\n",
        "  for key in results.keys():\n",
        "      avg = np.average(results[key][phase][stat])\n",
        "      max = np.max(results[key][phase][stat])\n",
        "      stats[key] = {'average': avg, 'max': max}\n",
        "\n",
        "  return stats"
      ]
    },
    {
      "cell_type": "markdown",
      "source": [
        "# Parameter sweeps"
      ],
      "metadata": {
        "id": "qVlZQ1pt8SJk"
      }
    },
    {
      "cell_type": "markdown",
      "source": [
        "## Residual blocks per layer"
      ],
      "metadata": {
        "id": "dgQaMi898WXP"
      }
    },
    {
      "cell_type": "code",
      "source": [
        "results = {}\n",
        "for layer1_blocks in range(1, 5):\n",
        "  for layer2_blocks in range(1, 4):\n",
        "      for layer3_blocks in range(3):\n",
        "          for layer4_blocks in range(2):\n",
        "            num_blocks = [layer1_blocks, layer2_blocks, layer3_blocks, layer4_blocks]\n",
        "            net = ResNet(BasicBlock, num_blocks)\n",
        "            net = net.to(device)\n",
        "            if device == 'cuda':\n",
        "                net = torch.nn.DataParallel(net)\n",
        "                cudnn.benchmark = True\n",
        "            print(f'num_blocks={num_blocks}')\n",
        "\n",
        "            model_summary = summary(net, (128, 3, 32, 32))\n",
        "            n_params = model_summary.trainable_params\n",
        "            if n_params > 5000000:\n",
        "                print(f\"Model has too many parameters ({n_params}), will skip\")\n",
        "                continue\n",
        "            else:\n",
        "                print(f\"Will train model with {n_params}  parameters\")\n",
        "\n",
        "            result = train(net)\n",
        "            results[f'{layer1_blocks}{layer2_blocks}{layer3_blocks}{layer4_blocks}'] = result\n",
        "            \n",
        "            # Save intermittently in case training fails\n",
        "            save_to_excel(parse_results(results, 'validation'), 'WIP_block_num_results_val')\n",
        "            save_to_excel(parse_results(results, 'train'), 'WIP_block_num_results_train')\n",
        "\n",
        "save_to_excel(parse_results(results, 'validation'), 'block_num_results_val')\n",
        "save_to_excel(parse_results(results, 'train'), 'block_num_results_train')"
      ],
      "metadata": {
        "id": "5-W5sVK-8Zo7"
      },
      "execution_count": null,
      "outputs": []
    },
    {
      "cell_type": "markdown",
      "source": [
        "## Stride"
      ],
      "metadata": {
        "id": "QPG85YDu8y37"
      }
    },
    {
      "cell_type": "code",
      "execution_count": 19,
      "metadata": {
        "id": "OpVsNJbY5lC3"
      },
      "outputs": [],
      "source": [
        "results = {}\n",
        "for layer1stride in range(1, 4):\n",
        "  for layer2stride in range(1, 4):\n",
        "    for layer3stride in range(1, 4):\n",
        "        # Best from previous parameter sweep\n",
        "        num_blocks=[2, 3, 2, 0]\n",
        "\n",
        "        strides=[layer1stride, layer2stride, layer3stride, 2]\n",
        "\n",
        "        net = ResNet(BasicBlock, num_blocks, strides=strides)\n",
        "        net = net.to(device)\n",
        "        if device == 'cuda':\n",
        "            net = torch.nn.DataParallel(net)\n",
        "            cudnn.benchmark = True\n",
        "        print(f'strides={strides}')\n",
        "\n",
        "        try:\n",
        "            model_summary = summary(net, (128, 3, 32, 32))\n",
        "            n_params = model_summary.trainable_params\n",
        "            if n_params > 5000000:\n",
        "                print(f\"Model has too many parameters ({n_params}), will skip\")\n",
        "                continue\n",
        "            else:\n",
        "                print(f\"Will train model with {n_params}  parameters\")\n",
        "        except:\n",
        "            print(f\"Invalid combination (strides={strides}), will skip. Most likely a dimensionality error.\")\n",
        "            continue\n",
        "\n",
        "        result = train(net)\n",
        "        results[f'strides:{layer1stride}{layer2stride}{layer3stride}'] = result\n",
        "\n",
        "        # Save intermittently in case training fails\n",
        "        save_to_excel(parse_results(results, 'validation'), 'WIP_stride_results_val')\n",
        "        save_to_excel(parse_results(results, 'train'), 'WIP_stride_results_train')\n",
        "\n",
        "save_to_excel(parse_results(results, 'validation'), 'stride_results_val')\n",
        "save_to_excel(parse_results(results, 'train'), 'stride_results_train')"
      ]
    },
    {
      "cell_type": "markdown",
      "source": [
        "## Learning Rate"
      ],
      "metadata": {
        "id": "UVNCq9ln801x"
      }
    },
    {
      "cell_type": "code",
      "source": [
        "results = {}\n",
        "lr = 0.02\n",
        "while lr < 0.2:\n",
        "\n",
        "    # Best from previous parameter sweep\n",
        "    num_blocks=[2, 3, 2, 0]\n",
        "    strides=[1,2,2,2]\n",
        "\n",
        "    net = ResNet(BasicBlock, num_blocks, strides=strides)\n",
        "    net = net.to(device)\n",
        "    if device == 'cuda':\n",
        "        net = torch.nn.DataParallel(net)\n",
        "        cudnn.benchmark = True\n",
        "    print(f'learning rate = {lr}')\n",
        "\n",
        "    result = train(net, LR=lr)\n",
        "    results[f'LR={lr}'] = result\n",
        "    \n",
        "    lr += 0.02\n",
        "\n",
        "    # Save intermittently in case training fails\n",
        "    save_to_excel(parse_results(results, 'validation'), 'WIP_LR_results_val')\n",
        "    save_to_excel(parse_results(results, 'train'), 'WIP_LR_results_train')\n",
        "\n",
        "save_to_excel(parse_results(results, 'validation'), 'LR_results_val')\n",
        "save_to_excel(parse_results(results, 'train'), 'LR_results_train')"
      ],
      "metadata": {
        "id": "kJORycAPcdEm"
      },
      "execution_count": null,
      "outputs": []
    },
    {
      "cell_type": "code",
      "source": [],
      "metadata": {
        "id": "DEGI5g8x-gKI"
      },
      "execution_count": null,
      "outputs": []
    }
  ],
  "metadata": {
    "accelerator": "GPU",
    "colab": {
      "provenance": [],
      "toc_visible": true,
      "authorship_tag": "ABX9TyPK+h4tFuibO54m+AHNu06y",
      "include_colab_link": true
    },
    "gpuClass": "premium",
    "kernelspec": {
      "display_name": "Python 3",
      "name": "python3"
    },
    "language_info": {
      "name": "python"
    },
    "widgets": {
      "application/vnd.jupyter.widget-state+json": {
        "3508ccbd100d4d1cbd8b90acbc403103": {
          "model_module": "@jupyter-widgets/controls",
          "model_name": "HBoxModel",
          "model_module_version": "1.5.0",
          "state": {
            "_dom_classes": [],
            "_model_module": "@jupyter-widgets/controls",
            "_model_module_version": "1.5.0",
            "_model_name": "HBoxModel",
            "_view_count": null,
            "_view_module": "@jupyter-widgets/controls",
            "_view_module_version": "1.5.0",
            "_view_name": "HBoxView",
            "box_style": "",
            "children": [
              "IPY_MODEL_f414c409f494457d95e21afc7f48fe8e",
              "IPY_MODEL_ed9a0eb0690a4c058ae8631d4025a334",
              "IPY_MODEL_bfd502c6f67e446dbdf427d3b4e07c0e"
            ],
            "layout": "IPY_MODEL_6b13239d5cb84baa872900d6e7e17e91"
          }
        },
        "f414c409f494457d95e21afc7f48fe8e": {
          "model_module": "@jupyter-widgets/controls",
          "model_name": "HTMLModel",
          "model_module_version": "1.5.0",
          "state": {
            "_dom_classes": [],
            "_model_module": "@jupyter-widgets/controls",
            "_model_module_version": "1.5.0",
            "_model_name": "HTMLModel",
            "_view_count": null,
            "_view_module": "@jupyter-widgets/controls",
            "_view_module_version": "1.5.0",
            "_view_name": "HTMLView",
            "description": "",
            "description_tooltip": null,
            "layout": "IPY_MODEL_82315e4e81f746658ce8bda174d9d54c",
            "placeholder": "​",
            "style": "IPY_MODEL_9520a879d137429fa8e974cb3b4c4fb2",
            "value": "100%"
          }
        },
        "ed9a0eb0690a4c058ae8631d4025a334": {
          "model_module": "@jupyter-widgets/controls",
          "model_name": "FloatProgressModel",
          "model_module_version": "1.5.0",
          "state": {
            "_dom_classes": [],
            "_model_module": "@jupyter-widgets/controls",
            "_model_module_version": "1.5.0",
            "_model_name": "FloatProgressModel",
            "_view_count": null,
            "_view_module": "@jupyter-widgets/controls",
            "_view_module_version": "1.5.0",
            "_view_name": "ProgressView",
            "bar_style": "success",
            "description": "",
            "description_tooltip": null,
            "layout": "IPY_MODEL_054ef9e49b42414ba24ea6cb11ddbc45",
            "max": 170498071,
            "min": 0,
            "orientation": "horizontal",
            "style": "IPY_MODEL_b8ed763e3fdb4c25a6f4626c37d68a0a",
            "value": 170498071
          }
        },
        "bfd502c6f67e446dbdf427d3b4e07c0e": {
          "model_module": "@jupyter-widgets/controls",
          "model_name": "HTMLModel",
          "model_module_version": "1.5.0",
          "state": {
            "_dom_classes": [],
            "_model_module": "@jupyter-widgets/controls",
            "_model_module_version": "1.5.0",
            "_model_name": "HTMLModel",
            "_view_count": null,
            "_view_module": "@jupyter-widgets/controls",
            "_view_module_version": "1.5.0",
            "_view_name": "HTMLView",
            "description": "",
            "description_tooltip": null,
            "layout": "IPY_MODEL_bf7955bacc6c47c1a327709b2369e68c",
            "placeholder": "​",
            "style": "IPY_MODEL_896700614fc444e19497c916041e9ffb",
            "value": " 170498071/170498071 [00:14&lt;00:00, 13432340.88it/s]"
          }
        },
        "6b13239d5cb84baa872900d6e7e17e91": {
          "model_module": "@jupyter-widgets/base",
          "model_name": "LayoutModel",
          "model_module_version": "1.2.0",
          "state": {
            "_model_module": "@jupyter-widgets/base",
            "_model_module_version": "1.2.0",
            "_model_name": "LayoutModel",
            "_view_count": null,
            "_view_module": "@jupyter-widgets/base",
            "_view_module_version": "1.2.0",
            "_view_name": "LayoutView",
            "align_content": null,
            "align_items": null,
            "align_self": null,
            "border": null,
            "bottom": null,
            "display": null,
            "flex": null,
            "flex_flow": null,
            "grid_area": null,
            "grid_auto_columns": null,
            "grid_auto_flow": null,
            "grid_auto_rows": null,
            "grid_column": null,
            "grid_gap": null,
            "grid_row": null,
            "grid_template_areas": null,
            "grid_template_columns": null,
            "grid_template_rows": null,
            "height": null,
            "justify_content": null,
            "justify_items": null,
            "left": null,
            "margin": null,
            "max_height": null,
            "max_width": null,
            "min_height": null,
            "min_width": null,
            "object_fit": null,
            "object_position": null,
            "order": null,
            "overflow": null,
            "overflow_x": null,
            "overflow_y": null,
            "padding": null,
            "right": null,
            "top": null,
            "visibility": null,
            "width": null
          }
        },
        "82315e4e81f746658ce8bda174d9d54c": {
          "model_module": "@jupyter-widgets/base",
          "model_name": "LayoutModel",
          "model_module_version": "1.2.0",
          "state": {
            "_model_module": "@jupyter-widgets/base",
            "_model_module_version": "1.2.0",
            "_model_name": "LayoutModel",
            "_view_count": null,
            "_view_module": "@jupyter-widgets/base",
            "_view_module_version": "1.2.0",
            "_view_name": "LayoutView",
            "align_content": null,
            "align_items": null,
            "align_self": null,
            "border": null,
            "bottom": null,
            "display": null,
            "flex": null,
            "flex_flow": null,
            "grid_area": null,
            "grid_auto_columns": null,
            "grid_auto_flow": null,
            "grid_auto_rows": null,
            "grid_column": null,
            "grid_gap": null,
            "grid_row": null,
            "grid_template_areas": null,
            "grid_template_columns": null,
            "grid_template_rows": null,
            "height": null,
            "justify_content": null,
            "justify_items": null,
            "left": null,
            "margin": null,
            "max_height": null,
            "max_width": null,
            "min_height": null,
            "min_width": null,
            "object_fit": null,
            "object_position": null,
            "order": null,
            "overflow": null,
            "overflow_x": null,
            "overflow_y": null,
            "padding": null,
            "right": null,
            "top": null,
            "visibility": null,
            "width": null
          }
        },
        "9520a879d137429fa8e974cb3b4c4fb2": {
          "model_module": "@jupyter-widgets/controls",
          "model_name": "DescriptionStyleModel",
          "model_module_version": "1.5.0",
          "state": {
            "_model_module": "@jupyter-widgets/controls",
            "_model_module_version": "1.5.0",
            "_model_name": "DescriptionStyleModel",
            "_view_count": null,
            "_view_module": "@jupyter-widgets/base",
            "_view_module_version": "1.2.0",
            "_view_name": "StyleView",
            "description_width": ""
          }
        },
        "054ef9e49b42414ba24ea6cb11ddbc45": {
          "model_module": "@jupyter-widgets/base",
          "model_name": "LayoutModel",
          "model_module_version": "1.2.0",
          "state": {
            "_model_module": "@jupyter-widgets/base",
            "_model_module_version": "1.2.0",
            "_model_name": "LayoutModel",
            "_view_count": null,
            "_view_module": "@jupyter-widgets/base",
            "_view_module_version": "1.2.0",
            "_view_name": "LayoutView",
            "align_content": null,
            "align_items": null,
            "align_self": null,
            "border": null,
            "bottom": null,
            "display": null,
            "flex": null,
            "flex_flow": null,
            "grid_area": null,
            "grid_auto_columns": null,
            "grid_auto_flow": null,
            "grid_auto_rows": null,
            "grid_column": null,
            "grid_gap": null,
            "grid_row": null,
            "grid_template_areas": null,
            "grid_template_columns": null,
            "grid_template_rows": null,
            "height": null,
            "justify_content": null,
            "justify_items": null,
            "left": null,
            "margin": null,
            "max_height": null,
            "max_width": null,
            "min_height": null,
            "min_width": null,
            "object_fit": null,
            "object_position": null,
            "order": null,
            "overflow": null,
            "overflow_x": null,
            "overflow_y": null,
            "padding": null,
            "right": null,
            "top": null,
            "visibility": null,
            "width": null
          }
        },
        "b8ed763e3fdb4c25a6f4626c37d68a0a": {
          "model_module": "@jupyter-widgets/controls",
          "model_name": "ProgressStyleModel",
          "model_module_version": "1.5.0",
          "state": {
            "_model_module": "@jupyter-widgets/controls",
            "_model_module_version": "1.5.0",
            "_model_name": "ProgressStyleModel",
            "_view_count": null,
            "_view_module": "@jupyter-widgets/base",
            "_view_module_version": "1.2.0",
            "_view_name": "StyleView",
            "bar_color": null,
            "description_width": ""
          }
        },
        "bf7955bacc6c47c1a327709b2369e68c": {
          "model_module": "@jupyter-widgets/base",
          "model_name": "LayoutModel",
          "model_module_version": "1.2.0",
          "state": {
            "_model_module": "@jupyter-widgets/base",
            "_model_module_version": "1.2.0",
            "_model_name": "LayoutModel",
            "_view_count": null,
            "_view_module": "@jupyter-widgets/base",
            "_view_module_version": "1.2.0",
            "_view_name": "LayoutView",
            "align_content": null,
            "align_items": null,
            "align_self": null,
            "border": null,
            "bottom": null,
            "display": null,
            "flex": null,
            "flex_flow": null,
            "grid_area": null,
            "grid_auto_columns": null,
            "grid_auto_flow": null,
            "grid_auto_rows": null,
            "grid_column": null,
            "grid_gap": null,
            "grid_row": null,
            "grid_template_areas": null,
            "grid_template_columns": null,
            "grid_template_rows": null,
            "height": null,
            "justify_content": null,
            "justify_items": null,
            "left": null,
            "margin": null,
            "max_height": null,
            "max_width": null,
            "min_height": null,
            "min_width": null,
            "object_fit": null,
            "object_position": null,
            "order": null,
            "overflow": null,
            "overflow_x": null,
            "overflow_y": null,
            "padding": null,
            "right": null,
            "top": null,
            "visibility": null,
            "width": null
          }
        },
        "896700614fc444e19497c916041e9ffb": {
          "model_module": "@jupyter-widgets/controls",
          "model_name": "DescriptionStyleModel",
          "model_module_version": "1.5.0",
          "state": {
            "_model_module": "@jupyter-widgets/controls",
            "_model_module_version": "1.5.0",
            "_model_name": "DescriptionStyleModel",
            "_view_count": null,
            "_view_module": "@jupyter-widgets/base",
            "_view_module_version": "1.2.0",
            "_view_name": "StyleView",
            "description_width": ""
          }
        }
      }
    }
  },
  "nbformat": 4,
  "nbformat_minor": 0
}